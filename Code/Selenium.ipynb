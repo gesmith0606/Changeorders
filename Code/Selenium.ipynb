{
 "cells": [
  {
   "cell_type": "code",
   "execution_count": 12,
   "metadata": {},
   "outputs": [],
   "source": [
    "# install Selenium \n",
    "# pip install -U selenium  "
   ]
  },
  {
   "cell_type": "code",
   "execution_count": 3,
   "metadata": {},
   "outputs": [],
   "source": [
    "#import\n",
    "from selenium import webdriver "
   ]
  },
  {
   "cell_type": "code",
   "execution_count": 4,
   "metadata": {},
   "outputs": [],
   "source": [
    "# launch the chrome driver installed from Selenium website \n",
    "driver = webdriver.Chrome(\"C:\\\\Users\\Smith\\\\Downloads\\\\chromedriver_win32\\\\chromedriver.exe\")"
   ]
  },
  {
   "cell_type": "code",
   "execution_count": 5,
   "metadata": {},
   "outputs": [],
   "source": [
    "# set website we would like to visit \n",
    "driver.get(\"https://prince.tracfloapp.com/wp-admin/admin.php?page=pmxe-admin-manage\")"
   ]
  },
  {
   "cell_type": "code",
   "execution_count": 6,
   "metadata": {},
   "outputs": [],
   "source": [
    "#find username field in browser \n",
    "Username=driver.find_element_by_id(\"user_login\")\n",
    "# enter username \n",
    "Username.send_keys(\"carl@tracflo.io\")\n"
   ]
  },
  {
   "cell_type": "code",
   "execution_count": 7,
   "metadata": {},
   "outputs": [],
   "source": [
    "# find password field \n",
    "Password=driver.find_element_by_id(\"user_pass\")\n",
    "# Enter password \n",
    "Password.send_keys(\"estrogen_huzza_noggin\")\n"
   ]
  },
  {
   "cell_type": "code",
   "execution_count": 8,
   "metadata": {},
   "outputs": [],
   "source": [
    "# find the login key \n",
    "Login=driver.find_element_by_id('wp-submit')\n",
    "#click Login \n",
    "Login.click()\n"
   ]
  },
  {
   "cell_type": "code",
   "execution_count": 308,
   "metadata": {},
   "outputs": [],
   "source": [
    "#browser full screen \n",
    "driver.maximize_window()\n",
    "#find All export \n",
    "Allexport=driver.find_element_by_link_text('All Export')\n",
    "#driver.find_element_by_css_selector(\".toplevel_page_pmxe-admin-ho...\")\n",
    "#click all export \n",
    "Allexport.click()"
   ]
  },
  {
   "cell_type": "code",
   "execution_count": 309,
   "metadata": {},
   "outputs": [],
   "source": [
    "#find choose a post type \n",
    "posttype=driver.find_element_by_css_selector(\"#file_selector>.dd-select\")\n",
    "#click drop down \n",
    "posttype.click()\n",
    "\n"
   ]
  },
  {
   "cell_type": "code",
   "execution_count": 310,
   "metadata": {},
   "outputs": [],
   "source": [
    "#Select Changeorders \n",
    "changeorder=driver.find_element_by_css_selector(\"li:nth-child(8) .dashicon\")\n",
    "#click on changeorder \n",
    "changeorder.click()"
   ]
  },
  {
   "cell_type": "code",
   "execution_count": 311,
   "metadata": {},
   "outputs": [],
   "source": [
    "#customize export file \n",
    "changeorder2=driver.find_element_by_css_selector(\".button-primary\")\n",
    "#Click customize export file \n",
    "changeorder2.click()"
   ]
  },
  {
   "cell_type": "code",
   "execution_count": 312,
   "metadata": {},
   "outputs": [],
   "source": [
    "#Add all  \n",
    "addall=driver.find_element_by_css_selector('.wp_all_export_auto_generate_data')\n",
    "#Click add all \n",
    "addall.click()"
   ]
  },
  {
   "cell_type": "code",
   "execution_count": 313,
   "metadata": {},
   "outputs": [],
   "source": [
    "#continue\n",
    "clickprimary =driver.find_element_by_css_selector('.button-hero')\n",
    "#Click continue\n",
    "clickprimary.click()"
   ]
  },
  {
   "cell_type": "code",
   "execution_count": 314,
   "metadata": {},
   "outputs": [],
   "source": [
    "#save\n",
    "savefile =driver.find_element_by_css_selector('.save-text')\n",
    "#save continue\n",
    "savefile.click()"
   ]
  },
  {
   "cell_type": "code",
   "execution_count": 315,
   "metadata": {},
   "outputs": [],
   "source": [
    "#select download as csv \n",
    "csv=driver.find_element_by_css_selector('.input > .button:nth-child(1)')\n",
    "#Click download as csv \n",
    "csv.click()"
   ]
  },
  {
   "cell_type": "code",
   "execution_count": null,
   "metadata": {},
   "outputs": [],
   "source": []
  },
  {
   "cell_type": "code",
   "execution_count": null,
   "metadata": {},
   "outputs": [],
   "source": [
    "\n"
   ]
  },
  {
   "cell_type": "code",
   "execution_count": null,
   "metadata": {},
   "outputs": [],
   "source": []
  },
  {
   "cell_type": "code",
   "execution_count": null,
   "metadata": {},
   "outputs": [],
   "source": [
    "\n"
   ]
  }
 ],
 "metadata": {
  "kernelspec": {
   "display_name": "Python 3",
   "language": "python",
   "name": "python3"
  },
  "language_info": {
   "codemirror_mode": {
    "name": "ipython",
    "version": 3
   },
   "file_extension": ".py",
   "mimetype": "text/x-python",
   "name": "python",
   "nbconvert_exporter": "python",
   "pygments_lexer": "ipython3",
   "version": "3.7.4"
  }
 },
 "nbformat": 4,
 "nbformat_minor": 4
}
