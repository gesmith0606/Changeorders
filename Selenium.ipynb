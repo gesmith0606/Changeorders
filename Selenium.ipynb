{
 "cells": [
  {
   "cell_type": "code",
   "execution_count": 16,
   "metadata": {},
   "outputs": [],
   "source": [
    "# install Selenium \n",
    "# pip install -U selenium "
   ]
  },
  {
   "cell_type": "code",
   "execution_count": 25,
   "metadata": {},
   "outputs": [],
   "source": [
    "#import\n",
    "from selenium import webdriver "
   ]
  },
  {
   "cell_type": "code",
   "execution_count": 48,
   "metadata": {},
   "outputs": [],
   "source": [
    "# launch the chrome driver installed from Selenium website \n",
    "driver = webdriver.Chrome(\"C:\\\\Users\\smith\\\\Downloads\\\\chromedriver_win32\\\\chromedriver.exe\")"
   ]
  },
  {
   "cell_type": "code",
   "execution_count": 49,
   "metadata": {},
   "outputs": [],
   "source": [
    "# set website we would like to visit \n",
    "driver.get(\"https://prince.tracfloapp.com/wp-admin/admin.php?page=pmxe-admin-manage\")"
   ]
  },
  {
   "cell_type": "code",
   "execution_count": 50,
   "metadata": {},
   "outputs": [],
   "source": [
    "#find username field in browser \n",
    "Username=driver.find_element_by_id(\"user_login\")\n",
    "# enter username \n",
    "Username.send_keys(\"carl@tracflo.io\")\n"
   ]
  },
  {
   "cell_type": "code",
   "execution_count": 51,
   "metadata": {},
   "outputs": [],
   "source": [
    "# find password field \n",
    "Password=driver.find_element_by_id(\"user_pass\")\n",
    "# Enter password \n",
    "Password.send_keys(\"estrogen_huzza_noggin\")\n"
   ]
  },
  {
   "cell_type": "code",
   "execution_count": 52,
   "metadata": {},
   "outputs": [],
   "source": [
    "# find the login key \n",
    "Login=driver.find_element_by_id('wp-submit')\n",
    "#click Login \n",
    "Login.click()\n"
   ]
  },
  {
   "cell_type": "code",
   "execution_count": 56,
   "metadata": {},
   "outputs": [],
   "source": [
    "#find All export \n",
    "Allexport=driver.find_element_by_link_text('All Export')\n",
    "#click all export \n",
    "Allexport.click()"
   ]
  },
  {
   "cell_type": "code",
   "execution_count": 60,
   "metadata": {},
   "outputs": [],
   "source": [
    "#find choose a post type \n",
    "posttype=driver.find_element_by_id('wpwrap')\n",
    "#click drop down \n",
    "posttype.click()\n",
    "\n"
   ]
  },
  {
   "cell_type": "code",
   "execution_count": null,
   "metadata": {},
   "outputs": [],
   "source": []
  }
 ],
 "metadata": {
  "kernelspec": {
   "display_name": "Python 3",
   "language": "python",
   "name": "python3"
  },
  "language_info": {
   "codemirror_mode": {
    "name": "ipython",
    "version": 3
   },
   "file_extension": ".py",
   "mimetype": "text/x-python",
   "name": "python",
   "nbconvert_exporter": "python",
   "pygments_lexer": "ipython3",
   "version": "3.7.4"
  }
 },
 "nbformat": 4,
 "nbformat_minor": 4
}
