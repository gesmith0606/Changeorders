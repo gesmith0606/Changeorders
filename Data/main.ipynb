{
 "cells": [
  {
   "cell_type": "code",
   "execution_count": 6,
   "metadata": {},
   "outputs": [],
   "source": [
    "import pandas as pd\n",
    "import numpy as np\n",
    "import matplotlib.pyplot as plt\n",
    "import sklearn\n",
    "from pathlib import Path"
   ]
  },
  {
   "cell_type": "code",
   "execution_count": 91,
   "metadata": {},
   "outputs": [
    {
     "name": "stdout",
     "output_type": "stream",
     "text": [
      "ID                                int64\n",
      "Title                            object\n",
      "Content                         float64\n",
      "Excerpt                         float64\n",
      "Date                             object\n",
      "                                 ...   \n",
      "Material Breakdown_rate          object\n",
      "Equipment Breakdown_type        float64\n",
      "Equipment Breakdown_quantity    float64\n",
      "Equipment Breakdown_unit        float64\n",
      "Equipment Breakdown_rate        float64\n",
      "Length: 80, dtype: object\n",
      "\n",
      "\n",
      "ID                       int64\n",
      "Title                   object\n",
      "Content                 object\n",
      "Excerpt                float64\n",
      "Date                    object\n",
      "                        ...   \n",
      "Subject.2               object\n",
      "Signed?.2              float64\n",
      "Work Start Date.2      float64\n",
      "Optional End Date.2    float64\n",
      "Work Description.3      object\n",
      "Length: 98, dtype: object\n"
     ]
    }
   ],
   "source": [
    "# Set the file paths for changing orders\n",
    "co_path_1 = Path(\"/Users/jiwookkim/Desktop/Changeorders/Data/Change-Orders-Export-2020-February-08-1609.csv\")\n",
    "co_path_2 = Path(\"/Users/jiwookkim/Desktop/Changeorders/Data/Change-Orders-Export-2020-February-08-1618.csv\")\n",
    "co_path_3 = Path(\"/Users/jiwookkim/Desktop/Changeorders/Data/Change-Orders-Export-2020-February-08-1632.csv\")\n",
    "co_path_4 = Path(\"/Users/jiwookkim/Desktop/Changeorders/Data/Change-Orders-Export-2020-February-08-1633.csv\")\n",
    "\n",
    "#Set the file paths for tickets\n",
    "tickets_path_1 = Path(\"/Users/jiwookkim/Desktop/Changeorders/Data/Tickets-Export-2020-February-08-1621.csv\")\n",
    "tickets_path_2 = Path(\"/Users/jiwookkim/Desktop/Changeorders/Data/Tickets-Export-2020-February-08-1623.csv\")\n",
    "tickets_path_3 = Path(\"/Users/jiwookkim/Desktop/Changeorders/Data/Tickets-Export-2020-February-08-1639.csv\")\n",
    "tickets_path_4 = Path(\"/Users/jiwookkim/Desktop/Changeorders/Data/Tickets-Export-2020-February-08-1640.csv\")\n",
    "tickets_path_5 = Path(\"/Users/jiwookkim/Desktop/Changeorders/Data/Tickets-Export-2020-February-08-1644.csv\")\n",
    "tickets_path_6 = Path(\"/Users/jiwookkim/Desktop/Changeorders/Data/Tickets-Export-2020-February-08-1647.csv\")\n",
    "\n",
    "\n",
    "# Read the CSVs for Changing orders\n",
    "co_1_df = pd.read_csv(co_path_1)\n",
    "co_2_df = pd.read_csv(co_path_2)\n",
    "co_3_df = pd.read_csv(co_path_3)\n",
    "co_4_df = pd.read_csv(co_path_4)\n",
    "\n",
    "#Read the CSVs for tickets\n",
    "ticket_1_df = pd.read_csv(tickets_path_1, header=0, escapechar='\\\\')\n",
    "ticket_2_df = pd.read_csv(tickets_path_2, header=0, escapechar='\\\\')\n",
    "ticket_3_df = pd.read_csv(tickets_path_3, header=0, escapechar='\\\\')\n",
    "ticket_4_df = pd.read_csv(tickets_path_4, header=0, escapechar='\\\\')\n",
    "ticket_5_df = pd.read_csv(tickets_path_5, header=0, escapechar='\\\\')\n",
    "ticket_6_df = pd.read_csv(tickets_path_6, header=0, escapechar='\\\\')\n",
    "\n",
    "#Concatenating changing orders and tickets dataframe\n",
    "co_df = pd.concat([co_1_df, co_2_df, co_3_df, co_4_df], axis=\"rows\", join=\"inner\")\n",
    "ticket_df = pd.concat([ticket_1_df, ticket_2_df, ticket_3_df, ticket_4_df, ticket_5_df, ticket_6_df], axis=\"rows\", join='inner')\n",
    "\n",
    "# Retrieving DataFrame data types\n",
    "print(co_df.dtypes)\n",
    "print()\n",
    "print()\n",
    "print(ticket_df.dtypes)"
   ]
  },
  {
   "cell_type": "code",
   "execution_count": 92,
   "metadata": {},
   "outputs": [
    {
     "data": {
      "text/plain": [
       "Index(['ID', 'Title', 'Content', 'Excerpt', 'Date', 'Post Type', 'Permalink',\n",
       "       'URL', 'Title.1', 'Caption', 'Description', 'Alt Text', 'Featured',\n",
       "       'URL.1', 'history', 'total', 'paid_total', 'balance',\n",
       "       'breakdowns_labor_0_type', '_breakdowns_labor_0_type',\n",
       "       'breakdowns_labor_0_quantity', '_breakdowns_labor_0_quantity',\n",
       "       'breakdowns_labor_0_hours', '_breakdowns_labor_0_hours',\n",
       "       'breakdowns_labor_0_rate', '_breakdowns_labor_0_rate',\n",
       "       'breakdowns_material_0_type', '_breakdowns_material_0_type',\n",
       "       'breakdowns_material_0_quantity', '_breakdowns_material_0_quantity',\n",
       "       'breakdowns_material_0_unit', '_breakdowns_material_0_unit',\n",
       "       'breakdowns_material_0_rate', '_breakdowns_material_0_rate',\n",
       "       'breakdowns_equipment_0_type', '_breakdowns_equipment_0_type',\n",
       "       'breakdowns_equipment_0_quantity', '_breakdowns_equipment_0_quantity',\n",
       "       'breakdowns_equipment_0_unit', '_breakdowns_equipment_0_unit',\n",
       "       'breakdowns_equipment_0_rate', '_breakdowns_equipment_0_rate',\n",
       "       '_validate_email', '__validate_email', 'Status', 'Author ID',\n",
       "       'Author Username', 'Author Email', 'Author First Name',\n",
       "       'Author Last Name', 'Slug', 'Format', 'Template', 'Parent',\n",
       "       'Parent Slug', 'Order', 'Comment Status', 'Ping Status',\n",
       "       'Post Modified Date', 'Project', 'Subject', 'Date.1', 'Upload RFP',\n",
       "       'Scope of Work', 'Exclusion', 'Type', 'Total', 'Add Tickets',\n",
       "       'Labor Breakdown_type', 'Labor Breakdown_quantity',\n",
       "       'Labor Breakdown_hours', 'Labor Breakdown_rate',\n",
       "       'Material Breakdown_type', 'Material Breakdown_quantity',\n",
       "       'Material Breakdown_unit', 'Material Breakdown_rate',\n",
       "       'Equipment Breakdown_type', 'Equipment Breakdown_quantity',\n",
       "       'Equipment Breakdown_unit', 'Equipment Breakdown_rate'],\n",
       "      dtype='object')"
      ]
     },
     "execution_count": 92,
     "metadata": {},
     "output_type": "execute_result"
    }
   ],
   "source": [
    "co_df.columns"
   ]
  },
  {
   "cell_type": "code",
   "execution_count": 93,
   "metadata": {},
   "outputs": [],
   "source": [
    "# Identifying Series count\n",
    "#co_df.count()\n",
    "#ticket_df.count()\n",
    "\n",
    "#Dropping Columns\n",
    "co_df = co_df.drop(columns=['Content', 'Excerpt', 'Equipment Breakdown_type', 'Equipment Breakdown_quantity', 'Equipment Breakdown_unit', 'Equipment Breakdown_rate', \n",
    "                           'Material Breakdown_type', 'Material Breakdown_quantity', 'Material Breakdown_unit', 'Material Breakdown_rate', 'Author Username', 'Author Last Name',\n",
    "                           'Author First Name', 'Parent', 'Parent Slug', 'Ping Status', 'Author Email', 'URL.1', 'URL', 'Title.1', 'Description', 'Alt Text', 'Caption', 'Featured',\n",
    "                           'breakdowns_labor_0_type', 'breakdowns_labor_0_quantity', 'breakdowns_labor_0_hours', 'breakdowns_labor_0_rate', 'breakdowns_labor_0_type', 'breakdowns_material_0_type',\n",
    "                           'breakdowns_material_0_quantity', 'breakdowns_material_0_unit', 'breakdowns_material_0_rate', 'breakdowns_equipment_0_type', 'breakdowns_equipment_0_quantity',\n",
    "                           'breakdowns_equipment_0_unit', 'breakdowns_equipment_0_rate', '_validate_email', '__validate_email', 'Format', 'Template', 'Upload RFP', 'Exclusion', 'Add Tickets',\n",
    "                           'Labor Breakdown_type', 'Labor Breakdown_quantity', 'Labor Breakdown_hours', 'Labor Breakdown_rate'])"
   ]
  },
  {
   "cell_type": "code",
   "execution_count": 94,
   "metadata": {},
   "outputs": [
    {
     "data": {
      "text/plain": [
       "ID                                    0\n",
       "Title                                 0\n",
       "Date                                  0\n",
       "Post Type                             0\n",
       "Permalink                             0\n",
       "history                               0\n",
       "total                                 1\n",
       "paid_total                            0\n",
       "balance                               0\n",
       "_breakdowns_labor_0_type             48\n",
       "_breakdowns_labor_0_quantity         48\n",
       "_breakdowns_labor_0_hours            48\n",
       "_breakdowns_labor_0_rate             48\n",
       "_breakdowns_material_0_type          48\n",
       "_breakdowns_material_0_quantity      48\n",
       "_breakdowns_material_0_unit          48\n",
       "_breakdowns_material_0_rate          48\n",
       "_breakdowns_equipment_0_type         48\n",
       "_breakdowns_equipment_0_quantity     48\n",
       "_breakdowns_equipment_0_unit         48\n",
       "_breakdowns_equipment_0_rate         48\n",
       "Status                                0\n",
       "Author ID                             0\n",
       "Slug                                  0\n",
       "Order                                 0\n",
       "Comment Status                        0\n",
       "Post Modified Date                    0\n",
       "Project                               7\n",
       "Subject                               0\n",
       "Date.1                               31\n",
       "Scope of Work                        28\n",
       "Type                                  0\n",
       "Total                               210\n",
       "dtype: int64"
      ]
     },
     "execution_count": 94,
     "metadata": {},
     "output_type": "execute_result"
    }
   ],
   "source": [
    "co_df.isnull().sum()\n",
    "\n",
    "#Dropping columns\n",
    "#df.drop(['B', 'C'], axis=1)"
   ]
  },
  {
   "cell_type": "code",
   "execution_count": null,
   "metadata": {},
   "outputs": [],
   "source": []
  }
 ],
 "metadata": {
  "kernelspec": {
   "display_name": "Python 3",
   "language": "python",
   "name": "python3"
  },
  "language_info": {
   "codemirror_mode": {
    "name": "ipython",
    "version": 3
   },
   "file_extension": ".py",
   "mimetype": "text/x-python",
   "name": "python",
   "nbconvert_exporter": "python",
   "pygments_lexer": "ipython3",
   "version": "3.7.3"
  }
 },
 "nbformat": 4,
 "nbformat_minor": 4
}
